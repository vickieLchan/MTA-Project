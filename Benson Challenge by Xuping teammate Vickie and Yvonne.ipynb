{
 "cells": [
  {
   "cell_type": "markdown",
   "metadata": {},
   "source": [
    "# Benson Challenge"
   ]
  },
  {
   "cell_type": "code",
   "execution_count": 1,
   "metadata": {},
   "outputs": [
    {
     "name": "stdout",
     "output_type": "stream",
     "text": [
      "Python Version: 3.7.3 (default, Mar 27 2019, 16:54:48) \n",
      "[Clang 4.0.1 (tags/RELEASE_401/final)]\n"
     ]
    }
   ],
   "source": [
    "import sys\n",
    "print(\"Python Version:\", sys.version)\n",
    "import pandas as pd"
   ]
  },
  {
   "cell_type": "markdown",
   "metadata": {},
   "source": [
    "## Challenge 1"
   ]
  },
  {
   "cell_type": "code",
   "execution_count": 1,
   "metadata": {},
   "outputs": [
    {
     "ename": "FileNotFoundError",
     "evalue": "[Errno 2] File b'turnstile_190608.txt' does not exist: b'turnstile_190608.txt'",
     "output_type": "error",
     "traceback": [
      "\u001b[0;31m---------------------------------------------------------------------------\u001b[0m",
      "\u001b[0;31mFileNotFoundError\u001b[0m                         Traceback (most recent call last)",
      "\u001b[0;32m<ipython-input-1-45f6fd6eeba6>\u001b[0m in \u001b[0;36m<module>\u001b[0;34m\u001b[0m\n\u001b[1;32m     13\u001b[0m \u001b[0;34m\u001b[0m\u001b[0m\n\u001b[1;32m     14\u001b[0m \u001b[0mdata_date\u001b[0m \u001b[0;34m=\u001b[0m \u001b[0;34m[\u001b[0m\u001b[0;34m\"190608\"\u001b[0m\u001b[0;34m,\u001b[0m \u001b[0;34m\"190615\"\u001b[0m\u001b[0;34m,\u001b[0m \u001b[0;34m\"190622\"\u001b[0m\u001b[0;34m]\u001b[0m\u001b[0;34m\u001b[0m\u001b[0;34m\u001b[0m\u001b[0m\n\u001b[0;32m---> 15\u001b[0;31m \u001b[0mdf\u001b[0m \u001b[0;34m=\u001b[0m \u001b[0mcsv_to_df\u001b[0m\u001b[0;34m(\u001b[0m\u001b[0mdata_date\u001b[0m\u001b[0;34m)\u001b[0m\u001b[0;34m\u001b[0m\u001b[0;34m\u001b[0m\u001b[0m\n\u001b[0m",
      "\u001b[0;32m<ipython-input-1-45f6fd6eeba6>\u001b[0m in \u001b[0;36mcsv_to_df\u001b[0;34m(data_date)\u001b[0m\n\u001b[1;32m      9\u001b[0m     \u001b[0;32mfor\u001b[0m \u001b[0mdate\u001b[0m \u001b[0;32min\u001b[0m \u001b[0mdata_date\u001b[0m\u001b[0;34m:\u001b[0m\u001b[0;34m\u001b[0m\u001b[0;34m\u001b[0m\u001b[0m\n\u001b[1;32m     10\u001b[0m         \u001b[0mdata_file\u001b[0m \u001b[0;34m=\u001b[0m \u001b[0mcsv_file\u001b[0m\u001b[0;34m.\u001b[0m\u001b[0mformat\u001b[0m\u001b[0;34m(\u001b[0m\u001b[0mdate\u001b[0m\u001b[0;34m)\u001b[0m\u001b[0;34m\u001b[0m\u001b[0;34m\u001b[0m\u001b[0m\n\u001b[0;32m---> 11\u001b[0;31m         \u001b[0mdfs\u001b[0m\u001b[0;34m.\u001b[0m\u001b[0mappend\u001b[0m\u001b[0;34m(\u001b[0m\u001b[0mpd\u001b[0m\u001b[0;34m.\u001b[0m\u001b[0mread_csv\u001b[0m\u001b[0;34m(\u001b[0m\u001b[0mdata_file\u001b[0m\u001b[0;34m)\u001b[0m\u001b[0;34m)\u001b[0m\u001b[0;34m\u001b[0m\u001b[0;34m\u001b[0m\u001b[0m\n\u001b[0m\u001b[1;32m     12\u001b[0m     \u001b[0;32mreturn\u001b[0m \u001b[0mpd\u001b[0m\u001b[0;34m.\u001b[0m\u001b[0mconcat\u001b[0m\u001b[0;34m(\u001b[0m\u001b[0mdfs\u001b[0m\u001b[0;34m)\u001b[0m\u001b[0;34m\u001b[0m\u001b[0;34m\u001b[0m\u001b[0m\n\u001b[1;32m     13\u001b[0m \u001b[0;34m\u001b[0m\u001b[0m\n",
      "\u001b[0;32m/anaconda3/lib/python3.7/site-packages/pandas/io/parsers.py\u001b[0m in \u001b[0;36mparser_f\u001b[0;34m(filepath_or_buffer, sep, delimiter, header, names, index_col, usecols, squeeze, prefix, mangle_dupe_cols, dtype, engine, converters, true_values, false_values, skipinitialspace, skiprows, skipfooter, nrows, na_values, keep_default_na, na_filter, verbose, skip_blank_lines, parse_dates, infer_datetime_format, keep_date_col, date_parser, dayfirst, iterator, chunksize, compression, thousands, decimal, lineterminator, quotechar, quoting, doublequote, escapechar, comment, encoding, dialect, tupleize_cols, error_bad_lines, warn_bad_lines, delim_whitespace, low_memory, memory_map, float_precision)\u001b[0m\n\u001b[1;32m    700\u001b[0m                     skip_blank_lines=skip_blank_lines)\n\u001b[1;32m    701\u001b[0m \u001b[0;34m\u001b[0m\u001b[0m\n\u001b[0;32m--> 702\u001b[0;31m         \u001b[0;32mreturn\u001b[0m \u001b[0m_read\u001b[0m\u001b[0;34m(\u001b[0m\u001b[0mfilepath_or_buffer\u001b[0m\u001b[0;34m,\u001b[0m \u001b[0mkwds\u001b[0m\u001b[0;34m)\u001b[0m\u001b[0;34m\u001b[0m\u001b[0;34m\u001b[0m\u001b[0m\n\u001b[0m\u001b[1;32m    703\u001b[0m \u001b[0;34m\u001b[0m\u001b[0m\n\u001b[1;32m    704\u001b[0m     \u001b[0mparser_f\u001b[0m\u001b[0;34m.\u001b[0m\u001b[0m__name__\u001b[0m \u001b[0;34m=\u001b[0m \u001b[0mname\u001b[0m\u001b[0;34m\u001b[0m\u001b[0;34m\u001b[0m\u001b[0m\n",
      "\u001b[0;32m/anaconda3/lib/python3.7/site-packages/pandas/io/parsers.py\u001b[0m in \u001b[0;36m_read\u001b[0;34m(filepath_or_buffer, kwds)\u001b[0m\n\u001b[1;32m    427\u001b[0m \u001b[0;34m\u001b[0m\u001b[0m\n\u001b[1;32m    428\u001b[0m     \u001b[0;31m# Create the parser.\u001b[0m\u001b[0;34m\u001b[0m\u001b[0;34m\u001b[0m\u001b[0;34m\u001b[0m\u001b[0m\n\u001b[0;32m--> 429\u001b[0;31m     \u001b[0mparser\u001b[0m \u001b[0;34m=\u001b[0m \u001b[0mTextFileReader\u001b[0m\u001b[0;34m(\u001b[0m\u001b[0mfilepath_or_buffer\u001b[0m\u001b[0;34m,\u001b[0m \u001b[0;34m**\u001b[0m\u001b[0mkwds\u001b[0m\u001b[0;34m)\u001b[0m\u001b[0;34m\u001b[0m\u001b[0;34m\u001b[0m\u001b[0m\n\u001b[0m\u001b[1;32m    430\u001b[0m \u001b[0;34m\u001b[0m\u001b[0m\n\u001b[1;32m    431\u001b[0m     \u001b[0;32mif\u001b[0m \u001b[0mchunksize\u001b[0m \u001b[0;32mor\u001b[0m \u001b[0miterator\u001b[0m\u001b[0;34m:\u001b[0m\u001b[0;34m\u001b[0m\u001b[0;34m\u001b[0m\u001b[0m\n",
      "\u001b[0;32m/anaconda3/lib/python3.7/site-packages/pandas/io/parsers.py\u001b[0m in \u001b[0;36m__init__\u001b[0;34m(self, f, engine, **kwds)\u001b[0m\n\u001b[1;32m    893\u001b[0m             \u001b[0mself\u001b[0m\u001b[0;34m.\u001b[0m\u001b[0moptions\u001b[0m\u001b[0;34m[\u001b[0m\u001b[0;34m'has_index_names'\u001b[0m\u001b[0;34m]\u001b[0m \u001b[0;34m=\u001b[0m \u001b[0mkwds\u001b[0m\u001b[0;34m[\u001b[0m\u001b[0;34m'has_index_names'\u001b[0m\u001b[0;34m]\u001b[0m\u001b[0;34m\u001b[0m\u001b[0;34m\u001b[0m\u001b[0m\n\u001b[1;32m    894\u001b[0m \u001b[0;34m\u001b[0m\u001b[0m\n\u001b[0;32m--> 895\u001b[0;31m         \u001b[0mself\u001b[0m\u001b[0;34m.\u001b[0m\u001b[0m_make_engine\u001b[0m\u001b[0;34m(\u001b[0m\u001b[0mself\u001b[0m\u001b[0;34m.\u001b[0m\u001b[0mengine\u001b[0m\u001b[0;34m)\u001b[0m\u001b[0;34m\u001b[0m\u001b[0;34m\u001b[0m\u001b[0m\n\u001b[0m\u001b[1;32m    896\u001b[0m \u001b[0;34m\u001b[0m\u001b[0m\n\u001b[1;32m    897\u001b[0m     \u001b[0;32mdef\u001b[0m \u001b[0mclose\u001b[0m\u001b[0;34m(\u001b[0m\u001b[0mself\u001b[0m\u001b[0;34m)\u001b[0m\u001b[0;34m:\u001b[0m\u001b[0;34m\u001b[0m\u001b[0;34m\u001b[0m\u001b[0m\n",
      "\u001b[0;32m/anaconda3/lib/python3.7/site-packages/pandas/io/parsers.py\u001b[0m in \u001b[0;36m_make_engine\u001b[0;34m(self, engine)\u001b[0m\n\u001b[1;32m   1120\u001b[0m     \u001b[0;32mdef\u001b[0m \u001b[0m_make_engine\u001b[0m\u001b[0;34m(\u001b[0m\u001b[0mself\u001b[0m\u001b[0;34m,\u001b[0m \u001b[0mengine\u001b[0m\u001b[0;34m=\u001b[0m\u001b[0;34m'c'\u001b[0m\u001b[0;34m)\u001b[0m\u001b[0;34m:\u001b[0m\u001b[0;34m\u001b[0m\u001b[0;34m\u001b[0m\u001b[0m\n\u001b[1;32m   1121\u001b[0m         \u001b[0;32mif\u001b[0m \u001b[0mengine\u001b[0m \u001b[0;34m==\u001b[0m \u001b[0;34m'c'\u001b[0m\u001b[0;34m:\u001b[0m\u001b[0;34m\u001b[0m\u001b[0;34m\u001b[0m\u001b[0m\n\u001b[0;32m-> 1122\u001b[0;31m             \u001b[0mself\u001b[0m\u001b[0;34m.\u001b[0m\u001b[0m_engine\u001b[0m \u001b[0;34m=\u001b[0m \u001b[0mCParserWrapper\u001b[0m\u001b[0;34m(\u001b[0m\u001b[0mself\u001b[0m\u001b[0;34m.\u001b[0m\u001b[0mf\u001b[0m\u001b[0;34m,\u001b[0m \u001b[0;34m**\u001b[0m\u001b[0mself\u001b[0m\u001b[0;34m.\u001b[0m\u001b[0moptions\u001b[0m\u001b[0;34m)\u001b[0m\u001b[0;34m\u001b[0m\u001b[0;34m\u001b[0m\u001b[0m\n\u001b[0m\u001b[1;32m   1123\u001b[0m         \u001b[0;32melse\u001b[0m\u001b[0;34m:\u001b[0m\u001b[0;34m\u001b[0m\u001b[0;34m\u001b[0m\u001b[0m\n\u001b[1;32m   1124\u001b[0m             \u001b[0;32mif\u001b[0m \u001b[0mengine\u001b[0m \u001b[0;34m==\u001b[0m \u001b[0;34m'python'\u001b[0m\u001b[0;34m:\u001b[0m\u001b[0;34m\u001b[0m\u001b[0;34m\u001b[0m\u001b[0m\n",
      "\u001b[0;32m/anaconda3/lib/python3.7/site-packages/pandas/io/parsers.py\u001b[0m in \u001b[0;36m__init__\u001b[0;34m(self, src, **kwds)\u001b[0m\n\u001b[1;32m   1851\u001b[0m         \u001b[0mkwds\u001b[0m\u001b[0;34m[\u001b[0m\u001b[0;34m'usecols'\u001b[0m\u001b[0;34m]\u001b[0m \u001b[0;34m=\u001b[0m \u001b[0mself\u001b[0m\u001b[0;34m.\u001b[0m\u001b[0musecols\u001b[0m\u001b[0;34m\u001b[0m\u001b[0;34m\u001b[0m\u001b[0m\n\u001b[1;32m   1852\u001b[0m \u001b[0;34m\u001b[0m\u001b[0m\n\u001b[0;32m-> 1853\u001b[0;31m         \u001b[0mself\u001b[0m\u001b[0;34m.\u001b[0m\u001b[0m_reader\u001b[0m \u001b[0;34m=\u001b[0m \u001b[0mparsers\u001b[0m\u001b[0;34m.\u001b[0m\u001b[0mTextReader\u001b[0m\u001b[0;34m(\u001b[0m\u001b[0msrc\u001b[0m\u001b[0;34m,\u001b[0m \u001b[0;34m**\u001b[0m\u001b[0mkwds\u001b[0m\u001b[0;34m)\u001b[0m\u001b[0;34m\u001b[0m\u001b[0;34m\u001b[0m\u001b[0m\n\u001b[0m\u001b[1;32m   1854\u001b[0m         \u001b[0mself\u001b[0m\u001b[0;34m.\u001b[0m\u001b[0munnamed_cols\u001b[0m \u001b[0;34m=\u001b[0m \u001b[0mself\u001b[0m\u001b[0;34m.\u001b[0m\u001b[0m_reader\u001b[0m\u001b[0;34m.\u001b[0m\u001b[0munnamed_cols\u001b[0m\u001b[0;34m\u001b[0m\u001b[0;34m\u001b[0m\u001b[0m\n\u001b[1;32m   1855\u001b[0m \u001b[0;34m\u001b[0m\u001b[0m\n",
      "\u001b[0;32mpandas/_libs/parsers.pyx\u001b[0m in \u001b[0;36mpandas._libs.parsers.TextReader.__cinit__\u001b[0;34m()\u001b[0m\n",
      "\u001b[0;32mpandas/_libs/parsers.pyx\u001b[0m in \u001b[0;36mpandas._libs.parsers.TextReader._setup_parser_source\u001b[0;34m()\u001b[0m\n",
      "\u001b[0;31mFileNotFoundError\u001b[0m: [Errno 2] File b'turnstile_190608.txt' does not exist: b'turnstile_190608.txt'"
     ]
    }
   ],
   "source": [
    "#please download the three files in the data_date list starting from \"190608\". This cleaning algorithm cannot deal with data covering\n",
    "#different month since \"day\" is a key which gets filtered during cleaning. Modification needed to take more data files.\n",
    "import pandas as pd\n",
    "\n",
    "def csv_to_df(data_date):\n",
    "    csv_file = \"turnstile_{}.txt\"\n",
    "    dfs = []\n",
    "    for date in data_date:\n",
    "        data_file = csv_file.format(date)\n",
    "        dfs.append(pd.read_csv(data_file))\n",
    "    return pd.concat(dfs)\n",
    "\n",
    "data_date = [\"190608\", \"190615\", \"190622\"]\n",
    "df = csv_to_df(data_date)"
   ]
  },
  {
   "cell_type": "markdown",
   "metadata": {},
   "source": [
    "### checking data frame"
   ]
  },
  {
   "cell_type": "code",
   "execution_count": 3,
   "metadata": {},
   "outputs": [],
   "source": [
    "#df.head()\n",
    "#df.tail()\n",
    "#df.info()"
   ]
  },
  {
   "cell_type": "markdown",
   "metadata": {},
   "source": [
    "### Clean column names"
   ]
  },
  {
   "cell_type": "code",
   "execution_count": 4,
   "metadata": {},
   "outputs": [],
   "source": [
    "def rename_columns():\n",
    "    column_names = ['C/A', 'UNIT', 'SCP', 'STATION', 'LINENAME', 'DIVISION', 'DATE', 'TIME', 'DESC', 'ENTRIES','EXITS']\n",
    "    df.columns = [x.lower() for x in column_names]\n",
    "rename_columns()"
   ]
  },
  {
   "cell_type": "markdown",
   "metadata": {},
   "source": [
    "### checking unique elements"
   ]
  },
  {
   "cell_type": "code",
   "execution_count": 62,
   "metadata": {},
   "outputs": [],
   "source": [
    "#df.groupby(\"time\").time.count().sort_values(ascending = False)\n",
    "#00: and 01: already comprise of 90% of the data! 10% of turnstiles don't submit the first data around midnight!\n",
    "#df.groupby(\"date\").date.count()\n",
    "#df.entries.sort_values()"
   ]
  },
  {
   "cell_type": "markdown",
   "metadata": {},
   "source": [
    "# Challenge 2"
   ]
  },
  {
   "cell_type": "code",
   "execution_count": 6,
   "metadata": {
    "scrolled": true
   },
   "outputs": [],
   "source": [
    "import dateutil.parser\n",
    "from datetime import date\n",
    "\n",
    "def produce_day_hour_column():\n",
    "    par_funct = lambda row: dateutil.parser.parse(row[\"date\"] + \" \" + row[\"time\"])\n",
    "    df[\"datetime\"] = df.apply(par_funct, axis = 1)\n",
    "    df[\"day\"] = [x.day for x in df.datetime]\n",
    "    df[\"hour\"] = [x.hour for x in df.datetime]\n",
    "produce_day_hour_column()"
   ]
  },
  {
   "cell_type": "markdown",
   "metadata": {},
   "source": [
    "# Challenge 3"
   ]
  },
  {
   "cell_type": "code",
   "execution_count": 7,
   "metadata": {},
   "outputs": [],
   "source": [
    "turnstile_id = [\"c/a\", \"unit\", \"scp\", \"station\"]\n",
    "turnstile_id_day = turnstile_id + [\"day\"]"
   ]
  },
  {
   "cell_type": "markdown",
   "metadata": {},
   "source": [
    "### checking everything"
   ]
  },
  {
   "cell_type": "code",
   "execution_count": 8,
   "metadata": {},
   "outputs": [],
   "source": [
    "#df.groupby(turnstile_id).entries.count()\n",
    "#df.groupby(turnstile_id_day).entries.count().sort_values()\n",
    "#entry_and_time_col = [\"entries\", \"day\", \"hour\"]\n",
    "#df.groupby(turnstile_id_day).hour.min().value_counts()\n",
    "#dump all the data that starts after 4am (only 1 percent of total data)"
   ]
  },
  {
   "cell_type": "code",
   "execution_count": 9,
   "metadata": {},
   "outputs": [],
   "source": [
    "#mask_test = ((df[\"c/a\"] == \"PTH18\") & (df[\"unit\"] == \"R549\") & (df[\"scp\"] == \"01-01-03\") & (df[\"station\"] == \"NEWARK BM BW\"))\n",
    "#df[mask_test & (df.day == 12)]"
   ]
  },
  {
   "cell_type": "code",
   "execution_count": 63,
   "metadata": {},
   "outputs": [
    {
     "name": "stdout",
     "output_type": "stream",
     "text": [
      "all are int!\n"
     ]
    }
   ],
   "source": [
    "# are all the cumulative entry counts integers? If function returns nan, cleaning algorithm will be needed\n",
    "def integer_check():\n",
    "    for i, value in enumerate(df.entries):\n",
    "        if type(value) != int:\n",
    "            print(value)\n",
    "        elif i == len(df.entries) - 1:\n",
    "            print(\"all are int!\")\n",
    "integer_check()"
   ]
  },
  {
   "cell_type": "markdown",
   "metadata": {},
   "source": [
    "# Drop duplicate to keep the earilest data each day"
   ]
  },
  {
   "cell_type": "code",
   "execution_count": 84,
   "metadata": {},
   "outputs": [],
   "source": [
    "def keep_earliest_hour():\n",
    "    df1 = df.sort_values('hour', ascending=True).drop_duplicates(turnstile_id_day)\n",
    "    return df1.sort_values(turnstile_id_day).reset_index(drop=True)\n",
    "df_keep_earliest_hour = keep_earliest_hour()"
   ]
  },
  {
   "cell_type": "code",
   "execution_count": 91,
   "metadata": {},
   "outputs": [],
   "source": [
    "#df_keep_earliest_hour is the daily cumulative count\n",
    "#df_keep_earliest_hour.hour.value_counts()\n",
    "#now drop the rows recorded after 4am\n",
    "#df_keep_earliest_hour.tail()"
   ]
  },
  {
   "cell_type": "markdown",
   "metadata": {},
   "source": [
    "### drop data after 4am"
   ]
  },
  {
   "cell_type": "code",
   "execution_count": 92,
   "metadata": {},
   "outputs": [],
   "source": [
    "#some turnstiles submit the first data of each day at noon, we can't do the daily count based on them.\n",
    "def keep_midnight():\n",
    "    return df_keep_earliest_hour[df_keep_earliest_hour.hour < 4].reset_index(drop=True)\n",
    "df_keep_midnight = keep_midnight()\n",
    "#df_keep_midnight.hour.value_counts()\n",
    "#df_keep_midnight.head()"
   ]
  },
  {
   "cell_type": "markdown",
   "metadata": {},
   "source": [
    "### checking if turnstiles all have 21 days of data"
   ]
  },
  {
   "cell_type": "code",
   "execution_count": 87,
   "metadata": {
    "scrolled": true
   },
   "outputs": [],
   "source": [
    "#df_keep_midnight.groupby(turnstile_id).entries.count().value_counts()\n",
    "# 5% of the data has missing day, if wednesday is missing, we might have \n",
    "#Wednesday_daily_count = Thursday_cumulative_count - Tuesday_cumulative_count, more cleaning needed!"
   ]
  },
  {
   "cell_type": "markdown",
   "metadata": {},
   "source": [
    "# Filter rows with less than 21 days of data\n",
    "### filter rows by results of groupby!"
   ]
  },
  {
   "cell_type": "code",
   "execution_count": 93,
   "metadata": {
    "scrolled": false
   },
   "outputs": [],
   "source": [
    "def filter_day_span():\n",
    "    return df_keep_midnight.groupby(turnstile_id).filter(lambda x: x[\"entries\"].count() > 20).reset_index(drop=True)\n",
    "df_filter_day_span = filter_day_span()"
   ]
  },
  {
   "cell_type": "code",
   "execution_count": 125,
   "metadata": {},
   "outputs": [
    {
     "data": {
      "text/html": [
       "<div>\n",
       "<style scoped>\n",
       "    .dataframe tbody tr th:only-of-type {\n",
       "        vertical-align: middle;\n",
       "    }\n",
       "\n",
       "    .dataframe tbody tr th {\n",
       "        vertical-align: top;\n",
       "    }\n",
       "\n",
       "    .dataframe thead th {\n",
       "        text-align: right;\n",
       "    }\n",
       "</style>\n",
       "<table border=\"1\" class=\"dataframe\">\n",
       "  <thead>\n",
       "    <tr style=\"text-align: right;\">\n",
       "      <th></th>\n",
       "      <th>c/a</th>\n",
       "      <th>unit</th>\n",
       "      <th>scp</th>\n",
       "      <th>station</th>\n",
       "      <th>linename</th>\n",
       "      <th>division</th>\n",
       "      <th>date</th>\n",
       "      <th>time</th>\n",
       "      <th>desc</th>\n",
       "      <th>entries</th>\n",
       "      <th>exits</th>\n",
       "      <th>datetime</th>\n",
       "      <th>day</th>\n",
       "      <th>hour</th>\n",
       "    </tr>\n",
       "  </thead>\n",
       "  <tbody>\n",
       "    <tr>\n",
       "      <th>0</th>\n",
       "      <td>A002</td>\n",
       "      <td>R051</td>\n",
       "      <td>02-00-00</td>\n",
       "      <td>59 ST</td>\n",
       "      <td>NQR456W</td>\n",
       "      <td>BMT</td>\n",
       "      <td>06/01/2019</td>\n",
       "      <td>00:00:00</td>\n",
       "      <td>REGULAR</td>\n",
       "      <td>7080105</td>\n",
       "      <td>2398899</td>\n",
       "      <td>2019-06-01</td>\n",
       "      <td>1</td>\n",
       "      <td>0</td>\n",
       "    </tr>\n",
       "    <tr>\n",
       "      <th>1</th>\n",
       "      <td>A002</td>\n",
       "      <td>R051</td>\n",
       "      <td>02-00-00</td>\n",
       "      <td>59 ST</td>\n",
       "      <td>NQR456W</td>\n",
       "      <td>BMT</td>\n",
       "      <td>06/02/2019</td>\n",
       "      <td>00:00:00</td>\n",
       "      <td>REGULAR</td>\n",
       "      <td>7081001</td>\n",
       "      <td>2399154</td>\n",
       "      <td>2019-06-02</td>\n",
       "      <td>2</td>\n",
       "      <td>0</td>\n",
       "    </tr>\n",
       "    <tr>\n",
       "      <th>2</th>\n",
       "      <td>A002</td>\n",
       "      <td>R051</td>\n",
       "      <td>02-00-00</td>\n",
       "      <td>59 ST</td>\n",
       "      <td>NQR456W</td>\n",
       "      <td>BMT</td>\n",
       "      <td>06/03/2019</td>\n",
       "      <td>00:00:00</td>\n",
       "      <td>REGULAR</td>\n",
       "      <td>7081661</td>\n",
       "      <td>2399345</td>\n",
       "      <td>2019-06-03</td>\n",
       "      <td>3</td>\n",
       "      <td>0</td>\n",
       "    </tr>\n",
       "    <tr>\n",
       "      <th>3</th>\n",
       "      <td>A002</td>\n",
       "      <td>R051</td>\n",
       "      <td>02-00-00</td>\n",
       "      <td>59 ST</td>\n",
       "      <td>NQR456W</td>\n",
       "      <td>BMT</td>\n",
       "      <td>06/04/2019</td>\n",
       "      <td>00:00:00</td>\n",
       "      <td>REGULAR</td>\n",
       "      <td>7083157</td>\n",
       "      <td>2399747</td>\n",
       "      <td>2019-06-04</td>\n",
       "      <td>4</td>\n",
       "      <td>0</td>\n",
       "    </tr>\n",
       "    <tr>\n",
       "      <th>4</th>\n",
       "      <td>A002</td>\n",
       "      <td>R051</td>\n",
       "      <td>02-00-00</td>\n",
       "      <td>59 ST</td>\n",
       "      <td>NQR456W</td>\n",
       "      <td>BMT</td>\n",
       "      <td>06/05/2019</td>\n",
       "      <td>00:00:00</td>\n",
       "      <td>REGULAR</td>\n",
       "      <td>7084813</td>\n",
       "      <td>2400180</td>\n",
       "      <td>2019-06-05</td>\n",
       "      <td>5</td>\n",
       "      <td>0</td>\n",
       "    </tr>\n",
       "  </tbody>\n",
       "</table>\n",
       "</div>"
      ],
      "text/plain": [
       "    c/a  unit       scp station linename division        date      time  \\\n",
       "0  A002  R051  02-00-00   59 ST  NQR456W      BMT  06/01/2019  00:00:00   \n",
       "1  A002  R051  02-00-00   59 ST  NQR456W      BMT  06/02/2019  00:00:00   \n",
       "2  A002  R051  02-00-00   59 ST  NQR456W      BMT  06/03/2019  00:00:00   \n",
       "3  A002  R051  02-00-00   59 ST  NQR456W      BMT  06/04/2019  00:00:00   \n",
       "4  A002  R051  02-00-00   59 ST  NQR456W      BMT  06/05/2019  00:00:00   \n",
       "\n",
       "      desc  entries    exits   datetime  day  hour  \n",
       "0  REGULAR  7080105  2398899 2019-06-01    1     0  \n",
       "1  REGULAR  7081001  2399154 2019-06-02    2     0  \n",
       "2  REGULAR  7081661  2399345 2019-06-03    3     0  \n",
       "3  REGULAR  7083157  2399747 2019-06-04    4     0  \n",
       "4  REGULAR  7084813  2400180 2019-06-05    5     0  "
      ]
     },
     "execution_count": 125,
     "metadata": {},
     "output_type": "execute_result"
    }
   ],
   "source": [
    "#df_filter_day_span.head()\n",
    "#checking the day span is correct\n",
    "#df_filter_day_span.groupby(turnstile_id).entries.count().value_counts()"
   ]
  },
  {
   "cell_type": "markdown",
   "metadata": {},
   "source": [
    "# Check the cleaning process again"
   ]
  },
  {
   "cell_type": "code",
   "execution_count": 114,
   "metadata": {},
   "outputs": [],
   "source": [
    "#df_filter_day_span.info()\n",
    "#df_filter_day_span.tail()\n",
    "#df_filter_day_span.columns\n",
    "#df_filter_day_span.sample(n = 5, random_state= 41)\n",
    "#df_filter_day_span.hour.value_counts()\n",
    "#df_filter_day_span.groupby(turnstile_id).day.count().value_counts()\n",
    "#df_filter_day_span.entries.max()\n",
    "#2 billions almost equals to 2 ** 31 , is there a upper limit at which cumulative count got resetted?"
   ]
  },
  {
   "cell_type": "markdown",
   "metadata": {},
   "source": [
    "# Daily entries count"
   ]
  },
  {
   "cell_type": "code",
   "execution_count": 131,
   "metadata": {},
   "outputs": [],
   "source": [
    "def order_by_day():\n",
    "    return df_filter_day_span.sort_values(turnstile_id_day).reset_index(drop = True)\n",
    "df_order_by_day = order_by_day()\n",
    "#df_order_by_day.count()"
   ]
  },
  {
   "cell_type": "code",
   "execution_count": 137,
   "metadata": {},
   "outputs": [],
   "source": [
    "#produce subframe to compute the daily entries, then concatenate to the original dataframe\n",
    "def diff_daily_count():\n",
    "    df_sub = df_filter_day_span[[\"entries\"]]\n",
    "    df_daily_count = df_sub.diff()\n",
    "    df_daily_count.columns = [\"daily_count\"]\n",
    "    return pd.concat([df_order_by_day, df_daily_count], axis=1).reset_index(drop=True)\n",
    "df_diff_daily_count = diff_daily_count()\n",
    "#df_diff_daily_count.head()"
   ]
  },
  {
   "cell_type": "markdown",
   "metadata": {},
   "source": [
    "### add previous day "
   ]
  },
  {
   "cell_type": "code",
   "execution_count": 144,
   "metadata": {},
   "outputs": [],
   "source": [
    "def add_prev_day():\n",
    "    df_day = df_diff_daily_count[[\"date\"]]\n",
    "    df_day_shifted = df_day.shift()\n",
    "    df_day_shifted.columns = [\"prev_date\"]\n",
    "    return pd.concat([df_diff_daily_count, df_day_shifted], axis=1)\n",
    "df_add_prev_day = add_prev_day()\n",
    "#df_add_prev_day.head()"
   ]
  },
  {
   "cell_type": "markdown",
   "metadata": {},
   "source": [
    "### subtraction produces nan, drop the first day!"
   ]
  },
  {
   "cell_type": "code",
   "execution_count": 147,
   "metadata": {},
   "outputs": [],
   "source": [
    "def drop_first_day():\n",
    "    return df_add_prev_day[(df_add_prev_day.day != 1)].reset_index(drop=True)\n",
    "turnstile_df = drop_first_day()"
   ]
  },
  {
   "cell_type": "markdown",
   "metadata": {},
   "source": [
    "# drop positive and negative outliers in daily_entry column"
   ]
  },
  {
   "cell_type": "code",
   "execution_count": 161,
   "metadata": {},
   "outputs": [],
   "source": [
    "def functioning_turnstile_count_by_day():\n",
    "    for n in range(2, 22):\n",
    "        print(turnstile_df[(turnstile_df.day == n)].daily_count.count())\n",
    "#functioning_turnstile_count_by_day()\n",
    "#all the remaining turnstiles records data during the time span"
   ]
  },
  {
   "cell_type": "code",
   "execution_count": 183,
   "metadata": {
    "scrolled": false
   },
   "outputs": [],
   "source": [
    "#turnstile_df[(turnstile_df.daily_count > 20000)]\n",
    "#1.8 billion of people went through a turnstile machine in one day?! That's 4 times the US population!"
   ]
  },
  {
   "cell_type": "code",
   "execution_count": 184,
   "metadata": {},
   "outputs": [],
   "source": [
    "#by looking at the busiest stations we set the daily count upper bound to 20000\n",
    "max_daily_cap = 20000\n",
    "def drop_positive_outlier():\n",
    "    return turnstile_df.groupby(turnstile_id).filter(lambda x: x['daily_count'].max()< max_daily_cap).reset_index(drop=True)\n",
    "df_drop_p_outlier = drop_positive_outlier()"
   ]
  },
  {
   "cell_type": "code",
   "execution_count": 185,
   "metadata": {},
   "outputs": [],
   "source": [
    "\n",
    "#df_drop_p_outlier[(df_drop_p_outlier.daily_count >max_daily_cap)]\n",
    "#df_drop_p_outlier[(df_drop_p_outlier.daily_count < 0 )]"
   ]
  },
  {
   "cell_type": "code",
   "execution_count": 186,
   "metadata": {},
   "outputs": [],
   "source": [
    "#now drop the neqative data, and the remaining data is sparkling clean!\n",
    "def cleaned_data():\n",
    "    return df_drop_p_outlier.groupby(turnstile_id).filter(lambda x: x['daily_count'].min() > 0).reset_index(drop=True)\n",
    "df_cleaned = cleaned_data()\n",
    "#df_cleaned[(df_cleaned.daily_count < 0)]"
   ]
  },
  {
   "cell_type": "markdown",
   "metadata": {},
   "source": [
    "# Challenge 4"
   ]
  },
  {
   "cell_type": "code",
   "execution_count": 188,
   "metadata": {},
   "outputs": [
    {
     "data": {
      "text/html": [
       "<div>\n",
       "<style scoped>\n",
       "    .dataframe tbody tr th:only-of-type {\n",
       "        vertical-align: middle;\n",
       "    }\n",
       "\n",
       "    .dataframe tbody tr th {\n",
       "        vertical-align: top;\n",
       "    }\n",
       "\n",
       "    .dataframe thead th {\n",
       "        text-align: right;\n",
       "    }\n",
       "</style>\n",
       "<table border=\"1\" class=\"dataframe\">\n",
       "  <thead>\n",
       "    <tr style=\"text-align: right;\">\n",
       "      <th></th>\n",
       "      <th>c/a</th>\n",
       "      <th>unit</th>\n",
       "      <th>scp</th>\n",
       "      <th>station</th>\n",
       "      <th>linename</th>\n",
       "      <th>division</th>\n",
       "      <th>date</th>\n",
       "      <th>time</th>\n",
       "      <th>desc</th>\n",
       "      <th>entries</th>\n",
       "      <th>exits</th>\n",
       "      <th>datetime</th>\n",
       "      <th>day</th>\n",
       "      <th>hour</th>\n",
       "      <th>daily_count</th>\n",
       "      <th>prev_date</th>\n",
       "    </tr>\n",
       "  </thead>\n",
       "  <tbody>\n",
       "    <tr>\n",
       "      <th>0</th>\n",
       "      <td>A002</td>\n",
       "      <td>R051</td>\n",
       "      <td>02-00-00</td>\n",
       "      <td>59 ST</td>\n",
       "      <td>NQR456W</td>\n",
       "      <td>BMT</td>\n",
       "      <td>06/02/2019</td>\n",
       "      <td>00:00:00</td>\n",
       "      <td>REGULAR</td>\n",
       "      <td>7081001</td>\n",
       "      <td>2399154</td>\n",
       "      <td>2019-06-02</td>\n",
       "      <td>2</td>\n",
       "      <td>0</td>\n",
       "      <td>896.0</td>\n",
       "      <td>06/01/2019</td>\n",
       "    </tr>\n",
       "    <tr>\n",
       "      <th>1</th>\n",
       "      <td>A002</td>\n",
       "      <td>R051</td>\n",
       "      <td>02-00-00</td>\n",
       "      <td>59 ST</td>\n",
       "      <td>NQR456W</td>\n",
       "      <td>BMT</td>\n",
       "      <td>06/03/2019</td>\n",
       "      <td>00:00:00</td>\n",
       "      <td>REGULAR</td>\n",
       "      <td>7081661</td>\n",
       "      <td>2399345</td>\n",
       "      <td>2019-06-03</td>\n",
       "      <td>3</td>\n",
       "      <td>0</td>\n",
       "      <td>660.0</td>\n",
       "      <td>06/02/2019</td>\n",
       "    </tr>\n",
       "    <tr>\n",
       "      <th>2</th>\n",
       "      <td>A002</td>\n",
       "      <td>R051</td>\n",
       "      <td>02-00-00</td>\n",
       "      <td>59 ST</td>\n",
       "      <td>NQR456W</td>\n",
       "      <td>BMT</td>\n",
       "      <td>06/04/2019</td>\n",
       "      <td>00:00:00</td>\n",
       "      <td>REGULAR</td>\n",
       "      <td>7083157</td>\n",
       "      <td>2399747</td>\n",
       "      <td>2019-06-04</td>\n",
       "      <td>4</td>\n",
       "      <td>0</td>\n",
       "      <td>1496.0</td>\n",
       "      <td>06/03/2019</td>\n",
       "    </tr>\n",
       "    <tr>\n",
       "      <th>3</th>\n",
       "      <td>A002</td>\n",
       "      <td>R051</td>\n",
       "      <td>02-00-00</td>\n",
       "      <td>59 ST</td>\n",
       "      <td>NQR456W</td>\n",
       "      <td>BMT</td>\n",
       "      <td>06/05/2019</td>\n",
       "      <td>00:00:00</td>\n",
       "      <td>REGULAR</td>\n",
       "      <td>7084813</td>\n",
       "      <td>2400180</td>\n",
       "      <td>2019-06-05</td>\n",
       "      <td>5</td>\n",
       "      <td>0</td>\n",
       "      <td>1656.0</td>\n",
       "      <td>06/04/2019</td>\n",
       "    </tr>\n",
       "    <tr>\n",
       "      <th>4</th>\n",
       "      <td>A002</td>\n",
       "      <td>R051</td>\n",
       "      <td>02-00-00</td>\n",
       "      <td>59 ST</td>\n",
       "      <td>NQR456W</td>\n",
       "      <td>BMT</td>\n",
       "      <td>06/06/2019</td>\n",
       "      <td>00:00:00</td>\n",
       "      <td>REGULAR</td>\n",
       "      <td>7086363</td>\n",
       "      <td>2400727</td>\n",
       "      <td>2019-06-06</td>\n",
       "      <td>6</td>\n",
       "      <td>0</td>\n",
       "      <td>1550.0</td>\n",
       "      <td>06/05/2019</td>\n",
       "    </tr>\n",
       "    <tr>\n",
       "      <th>5</th>\n",
       "      <td>A002</td>\n",
       "      <td>R051</td>\n",
       "      <td>02-00-00</td>\n",
       "      <td>59 ST</td>\n",
       "      <td>NQR456W</td>\n",
       "      <td>BMT</td>\n",
       "      <td>06/07/2019</td>\n",
       "      <td>00:00:00</td>\n",
       "      <td>REGULAR</td>\n",
       "      <td>7087917</td>\n",
       "      <td>2401244</td>\n",
       "      <td>2019-06-07</td>\n",
       "      <td>7</td>\n",
       "      <td>0</td>\n",
       "      <td>1554.0</td>\n",
       "      <td>06/06/2019</td>\n",
       "    </tr>\n",
       "    <tr>\n",
       "      <th>6</th>\n",
       "      <td>A002</td>\n",
       "      <td>R051</td>\n",
       "      <td>02-00-00</td>\n",
       "      <td>59 ST</td>\n",
       "      <td>NQR456W</td>\n",
       "      <td>BMT</td>\n",
       "      <td>06/08/2019</td>\n",
       "      <td>00:00:00</td>\n",
       "      <td>REGULAR</td>\n",
       "      <td>7089463</td>\n",
       "      <td>2401758</td>\n",
       "      <td>2019-06-08</td>\n",
       "      <td>8</td>\n",
       "      <td>0</td>\n",
       "      <td>1546.0</td>\n",
       "      <td>06/07/2019</td>\n",
       "    </tr>\n",
       "    <tr>\n",
       "      <th>7</th>\n",
       "      <td>A002</td>\n",
       "      <td>R051</td>\n",
       "      <td>02-00-00</td>\n",
       "      <td>59 ST</td>\n",
       "      <td>NQR456W</td>\n",
       "      <td>BMT</td>\n",
       "      <td>06/09/2019</td>\n",
       "      <td>00:00:00</td>\n",
       "      <td>REGULAR</td>\n",
       "      <td>7090281</td>\n",
       "      <td>2402005</td>\n",
       "      <td>2019-06-09</td>\n",
       "      <td>9</td>\n",
       "      <td>0</td>\n",
       "      <td>818.0</td>\n",
       "      <td>06/08/2019</td>\n",
       "    </tr>\n",
       "    <tr>\n",
       "      <th>8</th>\n",
       "      <td>A002</td>\n",
       "      <td>R051</td>\n",
       "      <td>02-00-00</td>\n",
       "      <td>59 ST</td>\n",
       "      <td>NQR456W</td>\n",
       "      <td>BMT</td>\n",
       "      <td>06/10/2019</td>\n",
       "      <td>00:00:00</td>\n",
       "      <td>REGULAR</td>\n",
       "      <td>7091020</td>\n",
       "      <td>2402182</td>\n",
       "      <td>2019-06-10</td>\n",
       "      <td>10</td>\n",
       "      <td>0</td>\n",
       "      <td>739.0</td>\n",
       "      <td>06/09/2019</td>\n",
       "    </tr>\n",
       "    <tr>\n",
       "      <th>9</th>\n",
       "      <td>A002</td>\n",
       "      <td>R051</td>\n",
       "      <td>02-00-00</td>\n",
       "      <td>59 ST</td>\n",
       "      <td>NQR456W</td>\n",
       "      <td>BMT</td>\n",
       "      <td>06/11/2019</td>\n",
       "      <td>00:00:00</td>\n",
       "      <td>REGULAR</td>\n",
       "      <td>7092450</td>\n",
       "      <td>2402667</td>\n",
       "      <td>2019-06-11</td>\n",
       "      <td>11</td>\n",
       "      <td>0</td>\n",
       "      <td>1430.0</td>\n",
       "      <td>06/10/2019</td>\n",
       "    </tr>\n",
       "    <tr>\n",
       "      <th>10</th>\n",
       "      <td>A002</td>\n",
       "      <td>R051</td>\n",
       "      <td>02-00-00</td>\n",
       "      <td>59 ST</td>\n",
       "      <td>NQR456W</td>\n",
       "      <td>BMT</td>\n",
       "      <td>06/12/2019</td>\n",
       "      <td>00:00:00</td>\n",
       "      <td>REGULAR</td>\n",
       "      <td>7094056</td>\n",
       "      <td>2403165</td>\n",
       "      <td>2019-06-12</td>\n",
       "      <td>12</td>\n",
       "      <td>0</td>\n",
       "      <td>1606.0</td>\n",
       "      <td>06/11/2019</td>\n",
       "    </tr>\n",
       "    <tr>\n",
       "      <th>11</th>\n",
       "      <td>A002</td>\n",
       "      <td>R051</td>\n",
       "      <td>02-00-00</td>\n",
       "      <td>59 ST</td>\n",
       "      <td>NQR456W</td>\n",
       "      <td>BMT</td>\n",
       "      <td>06/13/2019</td>\n",
       "      <td>00:00:00</td>\n",
       "      <td>REGULAR</td>\n",
       "      <td>7095613</td>\n",
       "      <td>2403658</td>\n",
       "      <td>2019-06-13</td>\n",
       "      <td>13</td>\n",
       "      <td>0</td>\n",
       "      <td>1557.0</td>\n",
       "      <td>06/12/2019</td>\n",
       "    </tr>\n",
       "    <tr>\n",
       "      <th>12</th>\n",
       "      <td>A002</td>\n",
       "      <td>R051</td>\n",
       "      <td>02-00-00</td>\n",
       "      <td>59 ST</td>\n",
       "      <td>NQR456W</td>\n",
       "      <td>BMT</td>\n",
       "      <td>06/14/2019</td>\n",
       "      <td>00:00:00</td>\n",
       "      <td>REGULAR</td>\n",
       "      <td>7097147</td>\n",
       "      <td>2404169</td>\n",
       "      <td>2019-06-14</td>\n",
       "      <td>14</td>\n",
       "      <td>0</td>\n",
       "      <td>1534.0</td>\n",
       "      <td>06/13/2019</td>\n",
       "    </tr>\n",
       "    <tr>\n",
       "      <th>13</th>\n",
       "      <td>A002</td>\n",
       "      <td>R051</td>\n",
       "      <td>02-00-00</td>\n",
       "      <td>59 ST</td>\n",
       "      <td>NQR456W</td>\n",
       "      <td>BMT</td>\n",
       "      <td>06/15/2019</td>\n",
       "      <td>00:00:00</td>\n",
       "      <td>REGULAR</td>\n",
       "      <td>7098729</td>\n",
       "      <td>2404647</td>\n",
       "      <td>2019-06-15</td>\n",
       "      <td>15</td>\n",
       "      <td>0</td>\n",
       "      <td>1582.0</td>\n",
       "      <td>06/14/2019</td>\n",
       "    </tr>\n",
       "    <tr>\n",
       "      <th>14</th>\n",
       "      <td>A002</td>\n",
       "      <td>R051</td>\n",
       "      <td>02-00-00</td>\n",
       "      <td>59 ST</td>\n",
       "      <td>NQR456W</td>\n",
       "      <td>BMT</td>\n",
       "      <td>06/16/2019</td>\n",
       "      <td>00:00:00</td>\n",
       "      <td>REGULAR</td>\n",
       "      <td>7099605</td>\n",
       "      <td>2404846</td>\n",
       "      <td>2019-06-16</td>\n",
       "      <td>16</td>\n",
       "      <td>0</td>\n",
       "      <td>876.0</td>\n",
       "      <td>06/15/2019</td>\n",
       "    </tr>\n",
       "    <tr>\n",
       "      <th>15</th>\n",
       "      <td>A002</td>\n",
       "      <td>R051</td>\n",
       "      <td>02-00-00</td>\n",
       "      <td>59 ST</td>\n",
       "      <td>NQR456W</td>\n",
       "      <td>BMT</td>\n",
       "      <td>06/17/2019</td>\n",
       "      <td>00:00:00</td>\n",
       "      <td>REGULAR</td>\n",
       "      <td>7100165</td>\n",
       "      <td>2405015</td>\n",
       "      <td>2019-06-17</td>\n",
       "      <td>17</td>\n",
       "      <td>0</td>\n",
       "      <td>560.0</td>\n",
       "      <td>06/16/2019</td>\n",
       "    </tr>\n",
       "    <tr>\n",
       "      <th>16</th>\n",
       "      <td>A002</td>\n",
       "      <td>R051</td>\n",
       "      <td>02-00-00</td>\n",
       "      <td>59 ST</td>\n",
       "      <td>NQR456W</td>\n",
       "      <td>BMT</td>\n",
       "      <td>06/18/2019</td>\n",
       "      <td>00:00:00</td>\n",
       "      <td>REGULAR</td>\n",
       "      <td>7101703</td>\n",
       "      <td>2405470</td>\n",
       "      <td>2019-06-18</td>\n",
       "      <td>18</td>\n",
       "      <td>0</td>\n",
       "      <td>1538.0</td>\n",
       "      <td>06/17/2019</td>\n",
       "    </tr>\n",
       "    <tr>\n",
       "      <th>17</th>\n",
       "      <td>A002</td>\n",
       "      <td>R051</td>\n",
       "      <td>02-00-00</td>\n",
       "      <td>59 ST</td>\n",
       "      <td>NQR456W</td>\n",
       "      <td>BMT</td>\n",
       "      <td>06/19/2019</td>\n",
       "      <td>00:00:00</td>\n",
       "      <td>REGULAR</td>\n",
       "      <td>7103118</td>\n",
       "      <td>2405995</td>\n",
       "      <td>2019-06-19</td>\n",
       "      <td>19</td>\n",
       "      <td>0</td>\n",
       "      <td>1415.0</td>\n",
       "      <td>06/18/2019</td>\n",
       "    </tr>\n",
       "    <tr>\n",
       "      <th>18</th>\n",
       "      <td>A002</td>\n",
       "      <td>R051</td>\n",
       "      <td>02-00-00</td>\n",
       "      <td>59 ST</td>\n",
       "      <td>NQR456W</td>\n",
       "      <td>BMT</td>\n",
       "      <td>06/20/2019</td>\n",
       "      <td>00:00:00</td>\n",
       "      <td>REGULAR</td>\n",
       "      <td>7104713</td>\n",
       "      <td>2406482</td>\n",
       "      <td>2019-06-20</td>\n",
       "      <td>20</td>\n",
       "      <td>0</td>\n",
       "      <td>1595.0</td>\n",
       "      <td>06/19/2019</td>\n",
       "    </tr>\n",
       "    <tr>\n",
       "      <th>19</th>\n",
       "      <td>A002</td>\n",
       "      <td>R051</td>\n",
       "      <td>02-00-00</td>\n",
       "      <td>59 ST</td>\n",
       "      <td>NQR456W</td>\n",
       "      <td>BMT</td>\n",
       "      <td>06/21/2019</td>\n",
       "      <td>00:00:00</td>\n",
       "      <td>REGULAR</td>\n",
       "      <td>7106209</td>\n",
       "      <td>2406997</td>\n",
       "      <td>2019-06-21</td>\n",
       "      <td>21</td>\n",
       "      <td>0</td>\n",
       "      <td>1496.0</td>\n",
       "      <td>06/20/2019</td>\n",
       "    </tr>\n",
       "  </tbody>\n",
       "</table>\n",
       "</div>"
      ],
      "text/plain": [
       "     c/a  unit       scp station linename division        date      time  \\\n",
       "0   A002  R051  02-00-00   59 ST  NQR456W      BMT  06/02/2019  00:00:00   \n",
       "1   A002  R051  02-00-00   59 ST  NQR456W      BMT  06/03/2019  00:00:00   \n",
       "2   A002  R051  02-00-00   59 ST  NQR456W      BMT  06/04/2019  00:00:00   \n",
       "3   A002  R051  02-00-00   59 ST  NQR456W      BMT  06/05/2019  00:00:00   \n",
       "4   A002  R051  02-00-00   59 ST  NQR456W      BMT  06/06/2019  00:00:00   \n",
       "5   A002  R051  02-00-00   59 ST  NQR456W      BMT  06/07/2019  00:00:00   \n",
       "6   A002  R051  02-00-00   59 ST  NQR456W      BMT  06/08/2019  00:00:00   \n",
       "7   A002  R051  02-00-00   59 ST  NQR456W      BMT  06/09/2019  00:00:00   \n",
       "8   A002  R051  02-00-00   59 ST  NQR456W      BMT  06/10/2019  00:00:00   \n",
       "9   A002  R051  02-00-00   59 ST  NQR456W      BMT  06/11/2019  00:00:00   \n",
       "10  A002  R051  02-00-00   59 ST  NQR456W      BMT  06/12/2019  00:00:00   \n",
       "11  A002  R051  02-00-00   59 ST  NQR456W      BMT  06/13/2019  00:00:00   \n",
       "12  A002  R051  02-00-00   59 ST  NQR456W      BMT  06/14/2019  00:00:00   \n",
       "13  A002  R051  02-00-00   59 ST  NQR456W      BMT  06/15/2019  00:00:00   \n",
       "14  A002  R051  02-00-00   59 ST  NQR456W      BMT  06/16/2019  00:00:00   \n",
       "15  A002  R051  02-00-00   59 ST  NQR456W      BMT  06/17/2019  00:00:00   \n",
       "16  A002  R051  02-00-00   59 ST  NQR456W      BMT  06/18/2019  00:00:00   \n",
       "17  A002  R051  02-00-00   59 ST  NQR456W      BMT  06/19/2019  00:00:00   \n",
       "18  A002  R051  02-00-00   59 ST  NQR456W      BMT  06/20/2019  00:00:00   \n",
       "19  A002  R051  02-00-00   59 ST  NQR456W      BMT  06/21/2019  00:00:00   \n",
       "\n",
       "       desc  entries    exits   datetime  day  hour  daily_count   prev_date  \n",
       "0   REGULAR  7081001  2399154 2019-06-02    2     0        896.0  06/01/2019  \n",
       "1   REGULAR  7081661  2399345 2019-06-03    3     0        660.0  06/02/2019  \n",
       "2   REGULAR  7083157  2399747 2019-06-04    4     0       1496.0  06/03/2019  \n",
       "3   REGULAR  7084813  2400180 2019-06-05    5     0       1656.0  06/04/2019  \n",
       "4   REGULAR  7086363  2400727 2019-06-06    6     0       1550.0  06/05/2019  \n",
       "5   REGULAR  7087917  2401244 2019-06-07    7     0       1554.0  06/06/2019  \n",
       "6   REGULAR  7089463  2401758 2019-06-08    8     0       1546.0  06/07/2019  \n",
       "7   REGULAR  7090281  2402005 2019-06-09    9     0        818.0  06/08/2019  \n",
       "8   REGULAR  7091020  2402182 2019-06-10   10     0        739.0  06/09/2019  \n",
       "9   REGULAR  7092450  2402667 2019-06-11   11     0       1430.0  06/10/2019  \n",
       "10  REGULAR  7094056  2403165 2019-06-12   12     0       1606.0  06/11/2019  \n",
       "11  REGULAR  7095613  2403658 2019-06-13   13     0       1557.0  06/12/2019  \n",
       "12  REGULAR  7097147  2404169 2019-06-14   14     0       1534.0  06/13/2019  \n",
       "13  REGULAR  7098729  2404647 2019-06-15   15     0       1582.0  06/14/2019  \n",
       "14  REGULAR  7099605  2404846 2019-06-16   16     0        876.0  06/15/2019  \n",
       "15  REGULAR  7100165  2405015 2019-06-17   17     0        560.0  06/16/2019  \n",
       "16  REGULAR  7101703  2405470 2019-06-18   18     0       1538.0  06/17/2019  \n",
       "17  REGULAR  7103118  2405995 2019-06-19   19     0       1415.0  06/18/2019  \n",
       "18  REGULAR  7104713  2406482 2019-06-20   20     0       1595.0  06/19/2019  \n",
       "19  REGULAR  7106209  2406997 2019-06-21   21     0       1496.0  06/20/2019  "
      ]
     },
     "execution_count": 188,
     "metadata": {},
     "output_type": "execute_result"
    }
   ],
   "source": [
    "import numpy as np\n",
    "import matplotlib\n",
    "import matplotlib.pyplot as plt\n",
    "%matplotlib inline\n",
    "\n",
    "mask = ((df_cleaned[\"c/a\"] == \"A002\") & \n",
    "(df_cleaned[\"unit\"] == \"R051\") & \n",
    "(df_cleaned[\"scp\"] == \"02-00-00\") & \n",
    "(df_cleaned[\"station\"] == \"59 ST\"))\n",
    "# datetime is both name of module and name of constructor of datetime object\n",
    "df_cleaned[mask]"
   ]
  },
  {
   "cell_type": "code",
   "execution_count": 189,
   "metadata": {},
   "outputs": [
    {
     "data": {
      "image/png": "[encoded data removed]",
      "text/plain": [
       "<Figure size 432x288 with 1 Axes>"
      ]
     },
     "metadata": {
      "needs_background": "light"
     },
     "output_type": "display_data"
    }
   ],
   "source": [
    "ax = df_cleaned[mask].plot.bar(x='prev_date', y='daily_count', rot=90)\n",
    "ax = df_cleaned[mask].plot.bar"
   ]
  },
  {
   "cell_type": "code",
   "execution_count": 190,
   "metadata": {},
   "outputs": [
    {
     "name": "stdout",
     "output_type": "stream",
     "text": [
      "<class 'pandas.core.frame.DataFrame'>\n",
      "RangeIndex: 66380 entries, 0 to 66379\n",
      "Data columns (total 16 columns):\n",
      "c/a            66380 non-null object\n",
      "unit           66380 non-null object\n",
      "scp            66380 non-null object\n",
      "station        66380 non-null object\n",
      "linename       66380 non-null object\n",
      "division       66380 non-null object\n",
      "date           66380 non-null object\n",
      "time           66380 non-null object\n",
      "desc           66380 non-null object\n",
      "entries        66380 non-null int64\n",
      "exits          66380 non-null int64\n",
      "datetime       66380 non-null datetime64[ns]\n",
      "day            66380 non-null int64\n",
      "hour           66380 non-null int64\n",
      "daily_count    66380 non-null float64\n",
      "prev_date      66380 non-null object\n",
      "dtypes: datetime64[ns](1), float64(1), int64(4), object(10)\n",
      "memory usage: 8.1+ MB\n"
     ]
    }
   ],
   "source": [
    "df_cleaned.info()"
   ]
  },
  {
   "cell_type": "code",
   "execution_count": null,
   "metadata": {},
   "outputs": [],
   "source": []
  }
 ],
 "metadata": {
  "kernelspec": {
   "display_name": "metis",
   "language": "python",
   "name": "metis"
  },
  "language_info": {
   "codemirror_mode": {
    "name": "ipython",
    "version": 3
   },
   "file_extension": ".py",
   "mimetype": "text/x-python",
   "name": "python",
   "nbconvert_exporter": "python",
   "pygments_lexer": "ipython3",
   "version": "3.7.3"
  }
 },
 "nbformat": 4,
 "nbformat_minor": 2
}
